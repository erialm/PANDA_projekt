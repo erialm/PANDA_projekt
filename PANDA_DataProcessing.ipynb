{
 "cells": [
  {
   "cell_type": "code",
   "execution_count": 1,
   "metadata": {},
   "outputs": [],
   "source": [
    "import os\n",
    "import openslide\n",
    "import pandas as pd\n",
    "import numpy as np\n",
    "import matplotlib\n",
    "import matplotlib.pyplot as plt\n",
    "import PIL\n",
    "from IPython.display import Image, display\n",
    "import skimage.io"
   ]
  },
  {
   "cell_type": "code",
   "execution_count": 2,
   "metadata": {},
   "outputs": [],
   "source": [
    "data_dir = r'D:\\PhDMain\\Courses\\DeepLearning\\PANDAS\\train_images'\n",
    "mask_dir = r'D:\\PhDMain\\Courses\\DeepLearning\\PANDAS\\train_label_masks'\n",
    "labels = pd.read_csv(r'D:\\PhDMain\\Courses\\DeepLearning\\PANDAS\\train.csv')\n",
    "labels.shape"
   ]
  },
  {
   "cell_type": "code",
   "execution_count": 5,
   "metadata": {},
   "outputs": [
    {
     "data": {
      "text/plain": [
       "count          10616\n",
       "unique             2\n",
       "top       karolinska\n",
       "freq            5456\n",
       "Name: data_provider, dtype: object"
      ]
     },
     "execution_count": 5,
     "metadata": {},
     "output_type": "execute_result"
    }
   ],
   "source": [
    "labels['data_provider'].describe()"
   ]
  },
  {
   "cell_type": "code",
   "execution_count": 6,
   "metadata": {},
   "outputs": [
    {
     "data": {
      "image/png": "[encoded data removed]",
      "text/plain": [
       "<Figure size 1440x1080 with 1 Axes>"
      ]
     },
     "metadata": {
      "needs_background": "light"
     },
     "output_type": "display_data"
    }
   ],
   "source": [
    "labels.hist(bins=50, figsize=(20,15))\n",
    "plt.show()\n",
    "#labels.drop(columns='image_id',index='00a7fb880dc12c5de82df39b30533da9')"
   ]
  },
  {
   "cell_type": "code",
   "execution_count": 8,
   "metadata": {},
   "outputs": [
    {
     "name": "stdout",
     "output_type": "stream",
     "text": [
      "9954\n"
     ]
    }
   ],
   "source": [
    "#Vi rensar bort tveksamma bilder. För detta använder vi den databasen av sådana bilder från \n",
    "#https://www.kaggle.com/dannellyz/collection-of-600-suspicious-slides-data-loader\n",
    "import shutil\n",
    "SuspFolder=r'D:\\PhDMain\\Courses\\DeepLearning\\PANDAS\\SuspiciousSlides'\n",
    "susp_slides = pd.read_csv(r'D:\\PhDMain\\Courses\\DeepLearning\\PANDAS\\SuspiciousSlides\\PANDA_suspicious_slides.csv')\n",
    "image_ids=susp_slides.image_id.values\n",
    "for i in range(len(image_ids)):\n",
    "    inputfile=os.path.join(data_dir,image_ids[i]+'.tiff')\n",
    "    if not os.path.isfile(inputfile):\n",
    "        continue\n",
    "    labels=labels[labels.image_id.values != image_ids[i]]\n",
    "    outputfile=os.path.join(SuspFolder,image_ids[i]+'.tiff')\n",
    "    shutil.move(inputfile,outputfile)\n",
    "print(len(labels))    "
   ]
  },
  {
   "cell_type": "code",
   "execution_count": 9,
   "metadata": {},
   "outputs": [
    {
     "name": "stdout",
     "output_type": "stream",
     "text": [
      "7962 996 996\n"
     ]
    }
   ],
   "source": [
    "#Vi delar här in data i tränings-,validerings- och testset. Vi ser till att absolutmängden bilder \n",
    "#i test och valideringsset är samma. För detta använder vi sklearn.\n",
    "prop_test_valid=0.1\n",
    "no_test_valid=prop_test_valid*len(labels)\n",
    "from sklearn.model_selection import StratifiedShuffleSplit\n",
    "split = StratifiedShuffleSplit(n_splits=1, test_size=prop_test_valid, random_state=42)\n",
    "for non_test_index, test_index in split.split(labels, labels[\"isup_grade\"]):\n",
    "    strat_non_test_label = labels.iloc[non_test_index]\n",
    "    strat_test_label = labels.iloc[test_index]\n",
    "prop_valid=no_test_valid/len(strat_non_test_label)\n",
    "split = StratifiedShuffleSplit(n_splits=1, test_size=prop_valid, random_state=43)\n",
    "for train_index, valid_index in split.split(strat_non_test_label, strat_non_test_label[\"isup_grade\"]):\n",
    "    strat_train_label = strat_non_test_label.iloc[train_index]\n",
    "    strat_valid_label = strat_non_test_label.iloc[valid_index]\n",
    "\n",
    "print(len(strat_train_label),len(strat_valid_label),len(strat_test_label))"
   ]
  },
  {
   "cell_type": "code",
   "execution_count": 10,
   "metadata": {},
   "outputs": [],
   "source": [
    "#Vi definerar en funktion för att dela upp varje bild i ett antal N subbilder, på så sätt att subbilderna är de\n",
    "#med lägst summa på deras pixelvärden, så att vi i stor utsträckning minskar de vita, fysiologiska irrelevanta pixlarna.\n",
    "#Kod har vi lånat från https://www.kaggle.com/iafoss/panda-16x128x128-tiles\n",
    "def tile_image(path,N,sz,level):\n",
    "\n",
    "    #Först hittar vi hur mycket vi behöver padda bilden så att bilden blir en multipel av antalet pixlar (=sz) \n",
    "    #vi vill ha i varje sub-bild (som är N till antalet.\n",
    "    img = skimage.io.MultiImage(path)[level]\n",
    "    shape = img.shape\n",
    "    pad0,pad1 = (sz - shape[0]%sz)%sz, (sz - shape[1]%sz)%sz\n",
    "\n",
    "\n",
    "    #Vi paddar till höger och vänster och sätter värdet till 255 i alla kanaler, dvs. vitt\n",
    "    img = np.pad(img,[[pad0//2,pad0-pad0//2],[pad1//2,pad1-pad1//2],[0,0]],\n",
    "                 constant_values=255) \n",
    "\n",
    "    #Vi flyttar runt pixlarna lite så att vi får en bild med dimensionerna N x sz x sz x 3\n",
    "    img = img.reshape(img.shape[0]//sz,sz,img.shape[1]//sz,sz,3)\n",
    "    img = img.transpose(0,2,1,3,4)\n",
    "    img = img.reshape(-1,sz,sz,3)\n",
    "\n",
    "\n",
    "\n",
    "    \n",
    "    if len(img) < N: #om vi inte kan fylla upp N sub-bilder paddar vi lite till så att vi kan det\n",
    "        img = np.pad(img,[[0,N-len(img)],[0,0],[0,0],[0,0]],constant_values=255) \n",
    "\n",
    "    #transform tile into a row of pixel values. Sum value of each row; this will give a one dimensional vector. \n",
    "    #Call argsort to sort these. Get the first N ones; sorting in ascending order, these will give the ones with\n",
    "    #the lowest pixel values.\n",
    "    #Vi transformerar varje enskild subbild till en lista med pixlar som vi sedan sumerar; vi sorterar därefter listan\n",
    "    #i stigande ordning och tar de N första.\n",
    "    idxs = np.argsort(img.reshape(img.shape[0],-1).sum(1))[:N] \n",
    "    img = img[idxs]\n",
    "    \n",
    "    #Vi gör därefter om bilderna till en bild av storleken sqrt(N)*sz x sqrt(N)*sz x 3 \n",
    "    #och returnerar den.\n",
    "    result=np.ndarray(shape=(np.sqrt(N).astype(int)*sz,np.sqrt(N).astype(int)*sz,3),dtype=int)\n",
    "    counter=0\n",
    "    rows=np.sqrt(N).astype(int)\n",
    "    columns=rows\n",
    "    for row in range(rows):\n",
    "        for column in range(columns):\n",
    "            q=img[counter,:,:,:]\n",
    "            result[row*sz:(row+1)*sz,column*sz:(column+1)*sz,:]=q\n",
    "            counter=counter+1\n",
    "    #reshape to final batch; -1 tells numpy to figure out the size of that dimension\n",
    "    return result\n",
    "    "
   ]
  },
  {
   "cell_type": "code",
   "execution_count": 29,
   "metadata": {},
   "outputs": [
    {
     "name": "stdout",
     "output_type": "stream",
     "text": [
      "0005f7aaab2800f6170c399693a96917.tiff\n"
     ]
    }
   ],
   "source": [
    "#Här går vi genom varje set, skapar bilder enligt metoden ovan, applicerar preprocessing-funktionen från ResNet50V2\n",
    "#och sparar dem som komprimerade numpy-arrays.\n",
    "train_labels_set=set(strat_train_label.image_id.values)\n",
    "valid_labels_set=set(strat_valid_label.image_id.values)\n",
    "test_labels_set=set(strat_test_label.image_id.values)\n",
    "\n",
    "N_large=100\n",
    "N_small=16\n",
    "sz=128\n",
    "\n",
    "from tensorflow.keras.applications.resnet_v2 import preprocess_input\n",
    "names = [name for name in os.listdir(data_dir)]\n",
    "for name in names:\n",
    "    file_label=name[:-5]\n",
    "    path=os.path.join(data_dir,name)\n",
    "    if file_label in train_labels_set:\n",
    "        output_folder='D:\\PhDMain\\Courses\\DeepLearning\\PANDAS\\ProcessedImages\\TrainSet\\\\'\n",
    "    elif file_label in valid_labels_set:\n",
    "        output_folder='D:\\PhDMain\\Courses\\DeepLearning\\PANDAS\\ProcessedImages\\ValidationSet\\\\'\n",
    "    elif file_label in test_labels_set:\n",
    "        output_folder='D:\\PhDMain\\Courses\\DeepLearning\\PANDAS\\ProcessedImages\\TestSet\\\\'\n",
    "    else:\n",
    "        print('Error; label does not belong to any set',file_label)\n",
    "        break\n",
    "    tiled_img_large=preprocess_input(tile_image(path,N_large,sz,1))\n",
    "    tiled_img_small=preprocess_input(tile_image(path,N_small,sz,2))\n",
    "    np.savez_compressed(output_folder+file_label+'.npz', large=tiled_img_large, small=tiled_img_small)"
   ]
  }
 ],
 "metadata": {
  "kernelspec": {
   "display_name": "Python 3",
   "language": "python",
   "name": "python3"
  },
  "language_info": {
   "codemirror_mode": {
    "name": "ipython",
    "version": 3
   },
   "file_extension": ".py",
   "mimetype": "text/x-python",
   "name": "python",
   "nbconvert_exporter": "python",
   "pygments_lexer": "ipython3",
   "version": "3.8.3"
  }
 },
 "nbformat": 4,
 "nbformat_minor": 4
}
